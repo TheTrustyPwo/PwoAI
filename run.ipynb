{
 "cells": [
  {
   "cell_type": "code",
   "execution_count": null,
   "id": "initial_id",
   "metadata": {
    "collapsed": true
   },
   "outputs": [],
   "source": [
    "%%capture\n",
    "!pip install unsloth\n",
    "# Also get the latest nightly Unsloth!\n",
    "!pip uninstall unsloth -y && pip install --upgrade --no-cache-dir \"unsloth[colab-new] @ git+https://github.com/unslothai/unsloth.git\""
   ]
  },
  {
   "metadata": {},
   "cell_type": "code",
   "outputs": [],
   "execution_count": null,
   "source": [
    "from unsloth import FastLanguageModel\n",
    "\n",
    "model, tokenizer = FastLanguageModel.from_pretrained(\n",
    "    model_name = \"ThePwo/\",\n",
    "    max_seq_length = 2048,\n",
    "    dtype = None,\n",
    "    load_in_4bit = True,\n",
    "    token = \"hf_\"\n",
    ")"
   ],
   "id": "f7096e4b93a8aa7b"
  },
  {
   "metadata": {},
   "cell_type": "code",
   "outputs": [],
   "execution_count": null,
   "source": [
    "import random\n",
    "\n",
    "def get_last_message(output):\n",
    "    parts = output.rsplit('\\n\\n', 1)\n",
    "    if len(parts) > 1:\n",
    "        return parts[-1].strip().replace('<|eot_id|>', '')\n",
    "    return None\n",
    "\n",
    "import textwrap\n",
    "\n",
    "def print_wrapped(text):\n",
    "    wrapped_text = textwrap.fill(text, width=80)\n",
    "    print(wrapped_text)"
   ],
   "id": "81f8de2187753e82"
  },
  {
   "metadata": {},
   "cell_type": "code",
   "outputs": [],
   "execution_count": null,
   "source": [
    "from unsloth.chat_templates import get_chat_template\n",
    "\n",
    "tokenizer = get_chat_template(\n",
    "    tokenizer,\n",
    "    chat_template = \"llama-3\",\n",
    "    mapping = {\"role\" : \"from\", \"content\" : \"value\", \"user\" : \"human\", \"assistant\" : \"gpt\"},\n",
    ")\n",
    "\n",
    "FastLanguageModel.for_inference(model)"
   ],
   "id": "2a1ff5f09c56fa98"
  },
  {
   "metadata": {},
   "cell_type": "code",
   "outputs": [],
   "execution_count": null,
   "source": [
    "messages = []\n",
    "\n",
    "for step in range(50):\n",
    "    if step == 0 or random.random() < 0.5:\n",
    "        messages.append({\"from\": \"human\", \"value\": input(\">> User: \")})\n",
    "\n",
    "    inputs = tokenizer.apply_chat_template(\n",
    "        messages,\n",
    "        tokenize = True,\n",
    "        add_generation_prompt = True,\n",
    "        return_tensors = \"pt\",\n",
    "    ).to(\"cuda\")\n",
    "\n",
    "    outputs = model.generate(input_ids = inputs, max_new_tokens = 512, use_cache=True, temperature=1.0)\n",
    "    response = get_last_message(tokenizer.batch_decode(outputs)[0])\n",
    "    messages.append({\"from\": \"gpt\", \"value\": response})\n",
    "    messages = messages[-10:]\n",
    "    print_wrapped(response)"
   ],
   "id": "bc0f584fa53a097a"
  }
 ],
 "metadata": {
  "kernelspec": {
   "display_name": "Python 3",
   "language": "python",
   "name": "python3"
  },
  "language_info": {
   "codemirror_mode": {
    "name": "ipython",
    "version": 2
   },
   "file_extension": ".py",
   "mimetype": "text/x-python",
   "name": "python",
   "nbconvert_exporter": "python",
   "pygments_lexer": "ipython2",
   "version": "2.7.6"
  }
 },
 "nbformat": 4,
 "nbformat_minor": 5
}
