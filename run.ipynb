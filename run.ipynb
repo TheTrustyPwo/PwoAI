{
 "cells": [
  {
   "cell_type": "code",
   "outputs": [],
   "source": [
    "# Installs Unsloth, Xformers (Flash Attention) and all other packages!\n",
    "!pip install \"unsloth[colab-new] @ git+https://github.com/unslothai/unsloth.git\"\n",
    "!pip install --no-deps \"xformers<0.0.27\" \"trl<0.9.0\" peft accelerate bitsandbytes"
   ],
   "metadata": {
    "collapsed": false
   },
   "id": "b9a95c7c5fba823e"
  },
  {
   "cell_type": "code",
   "outputs": [],
   "source": [
    "from unsloth import FastLanguageModel\n",
    "import torch\n",
    "\n",
    "model1, tokenizer1 = FastLanguageModel.from_pretrained(\n",
    "    model_name = \"ThePwo/PwoAI\",\n",
    "    max_seq_length = 2048,\n",
    "    dtype = None,\n",
    "    load_in_4bit = True,\n",
    ")\n",
    "\n",
    "model2, tokenizer2 = FastLanguageModel.from_pretrained(\n",
    "    model_name = \"ThePwo/FishAI\",\n",
    "    max_seq_length = 2048,\n",
    "    dtype = None,\n",
    "    load_in_4bit = True,\n",
    ")"
   ],
   "metadata": {
    "collapsed": true
   },
   "id": "initial_id",
   "execution_count": 0
  },
  {
   "cell_type": "code",
   "outputs": [],
   "source": [
    "from unsloth.chat_templates import get_chat_template\n",
    "\n",
    "tokenizer1 = get_chat_template(\n",
    "    tokenizer1,\n",
    "    chat_template = \"llama-3\",\n",
    "    mapping = {\"role\" : \"from\", \"content\" : \"value\", \"user\" : \"human\", \"assistant\" : \"gpt\"},\n",
    ")\n",
    "\n",
    "tokenizer2 = get_chat_template(\n",
    "    tokenizer2,\n",
    "    chat_template = \"llama-3\",\n",
    "    mapping = {\"role\" : \"from\", \"content\" : \"value\", \"user\" : \"human\", \"assistant\" : \"gpt\"},\n",
    ")\n",
    "\n",
    "def get_last_message(output):\n",
    "    parts = output.rsplit('\\n\\n', 1)\n",
    "    if len(parts) > 1:\n",
    "        return parts[-1].strip().replace('<|eot_id|>', '')\n",
    "    return None\n",
    "\n",
    "FastLanguageModel.for_inference(model1)\n",
    "FastLanguageModel.for_inference(model2)"
   ],
   "metadata": {
    "collapsed": false
   },
   "id": "8af151f66829912"
  },
  {
   "cell_type": "code",
   "outputs": [],
   "source": [
    "start_message = \"hi\"\n",
    "messages1, messages2 = [{\"from\": \"gpt\", \"value\": start_message}], [{\"from\": \"human\", \"value\": start_message}]\n",
    "turn = 1\n",
    "\n",
    "for step in range(40):\n",
    "    tokenizer = tokenizer2 if turn else tokenizer1\n",
    "    model = model2 if turn else model1\n",
    "    messages = messages2 if turn else messages1\n",
    "    other_messages = messages1 if turn else messages2\n",
    "\n",
    "    inputs = tokenizer.apply_chat_template(\n",
    "        messages,\n",
    "        tokenize = True,\n",
    "        add_generation_prompt = True,\n",
    "        return_tensors = \"pt\",\n",
    "    ).to(\"cuda\")\n",
    "\n",
    "    outputs = model.generate(input_ids = inputs, max_new_tokens = 64, use_cache=True, temperature=0.8)\n",
    "    response = get_last_message(tokenizer.batch_decode(outputs)[0])\n",
    "    messages.append({\"from\": \"gpt\", \"value\": response})\n",
    "    other_messages.append({\"from\": \"human\", \"value\": response})\n",
    "    messages, other_messages = messages[-10:], other_messages[-10:]\n",
    "    print(f\"{'FishAI' if turn else 'PwoAI'}: {response}\")\n",
    "    turn = not turn"
   ],
   "metadata": {
    "collapsed": false
   },
   "id": "734ab5e386b9305f"
  }
 ],
 "metadata": {
  "kernelspec": {
   "display_name": "Python 3",
   "language": "python",
   "name": "python3"
  },
  "language_info": {
   "codemirror_mode": {
    "name": "ipython",
    "version": 2
   },
   "file_extension": ".py",
   "mimetype": "text/x-python",
   "name": "python",
   "nbconvert_exporter": "python",
   "pygments_lexer": "ipython2",
   "version": "2.7.6"
  }
 },
 "nbformat": 4,
 "nbformat_minor": 5
}
